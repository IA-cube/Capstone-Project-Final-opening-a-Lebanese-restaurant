{
    "nbformat_minor": 1, 
    "cells": [
        {
            "source": "# 1 - Introduction/Business Problem", 
            "cell_type": "markdown", 
            "metadata": {
                "collapsed": true
            }
        }, 
        {
            "source": "I want to open a lebanese Restaurant in Paris, so the business problem, is to find the best place for the restaurant.\n\nThe main obejective is to find the best neighborhood for opening based on 2 criterias :\n-Attractivity \n-no competition (no other Lebanese restaurant nearby)\n-great potential ( People use to or like eating lebanese food)\n\n\n-The fist step will be to find the top neighborhood where you can find lebanese restaurant.\n-The second will be to rate them, to find the best neighborhood.\n-And finally to find a similar neighborhood with no lebanese restaurant, for opening our.\n\n\n", 
            "cell_type": "markdown", 
            "metadata": {}
        }, 
        {
            "source": "# 2 - Data Description to solve the problem", 
            "cell_type": "markdown", 
            "metadata": {}
        }, 
        {
            "source": "For this Business problem, we will use the API FourSquare for :\n\n-Get and analyse the venues of Paris\n-Finding the neighborhoods, where you can find Lebanese restaurant\n-Analyse each fo these neighborhood to find the best one, base on these criterias : Good revenues, Attractive area, good reviews etc...\n-Find a similar neighborhood, but with no lebanese restaurant open yet.\n\n\n    \n    ", 
            "cell_type": "markdown", 
            "metadata": {}
        }, 
        {
            "execution_count": null, 
            "cell_type": "code", 
            "metadata": {}, 
            "outputs": [], 
            "source": ""
        }
    ], 
    "metadata": {
        "kernelspec": {
            "display_name": "Python 3.5", 
            "name": "python3", 
            "language": "python"
        }, 
        "language_info": {
            "mimetype": "text/x-python", 
            "nbconvert_exporter": "python", 
            "version": "3.5.5", 
            "name": "python", 
            "file_extension": ".py", 
            "pygments_lexer": "ipython3", 
            "codemirror_mode": {
                "version": 3, 
                "name": "ipython"
            }
        }
    }, 
    "nbformat": 4
}